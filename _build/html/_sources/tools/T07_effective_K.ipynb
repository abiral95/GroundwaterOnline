{
 "cells": [
  {
   "cell_type": "markdown",
   "metadata": {},
   "source": [
    "# Effective hydraulic conductivity excel sheet by Dr. Liedl"
   ]
  },
  {
   "cell_type": "code",
   "execution_count": 1,
   "metadata": {},
   "outputs": [],
   "source": [
    "import matplotlib.pyplot as plt\n",
    "import numpy as np\n",
    "import pandas as pd\n",
    "import ipywidgets as widgets\n",
    "from ipywidgets import interact, interactive, fixed, interact_manual\n"
   ]
  },
  {
   "cell_type": "code",
   "execution_count": 4,
   "metadata": {},
   "outputs": [
    {
     "name": "stdout",
     "output_type": "stream",
     "text": [
      "Please provide the information below:  \n"
     ]
    },
    {
     "data": {
      "application/vnd.jupyter.widget-view+json": {
       "model_id": "88f21b2c2ba24968bc68275f924b912e",
       "version_major": 2,
       "version_minor": 0
      },
      "text/plain": [
       "interactive(children=(FloatText(value=0.0, description='Layer Thickness', style=DescriptionStyle(description_w…"
      ]
     },
     "metadata": {},
     "output_type": "display_data"
    }
   ],
   "source": [
    "print(\"Please provide the information below:  \")\n",
    "def Plot_Function(L1, L2, L3, K1, K2, K3):\n",
    "    TL=(L1+L2+L3)\n",
    "    R1=1/(K1)\n",
    "    R2=1/(K2)\n",
    "    R3=1/(K3)\n",
    "    W_K1=K1*(L1/(TL))\n",
    "    W_K2=K2*(L2/(TL))\n",
    "    W_K3=K3*(L3/(TL))\n",
    "    W_R1=(L1/(TL))/K1\n",
    "    W_R2=(L2/(TL))/K2\n",
    "    W_R3=(L3/(TL))/K3\n",
    "    R_prependicular=((R1)+(R2)+(R3))/3\n",
    "    K_prependicular=(TL)/((L1/K1)+(L2/K2)+(L3/K3))\n",
    "    K_parallel=float((L1*K1)+(L2*K2)+(L3*K3))/float(TL)\n",
    "    R_parallel=1/K_parallel\n",
    "    rel_h4=0\n",
    "    rel_h3=((float(TL)/(float(L1/K1)+float(L2/K2)+float(L3/K3)))*float(1/K3))\n",
    "    rel_h2=((float(TL)/(float(L1/K1)+float(L2/K2)+float(L3/K3)))*float(1/K2))+ float(rel_h3)\n",
    "    rel_h1=1\n",
    "    c1=0\n",
    "    c2=(L1/(L1+L2+L3))+0\n",
    "    c3=(L2/(L1+L2+L3))+(L1/(L1+L2+L3))\n",
    "    c4=1\n",
    "    rel_Q1= float(W_K1)/(float(W_K1)+float(W_K2)+float(W_K3))\n",
    "    rel_Q2= float(W_K2)/(float(W_K1)+float(W_K2)+float(W_K3))\n",
    "    rel_Q3= float(W_K3)/(float(W_K1)+float(W_K2)+float(W_K3))\n",
    "    Head=(rel_h1, rel_h2, rel_h3, rel_h4)\n",
    "    Thickness=(c1, c2, c3, c4)\n",
    "    Relative_discharge=(rel_Q1, rel_Q2, rel_Q3)\n",
    "    Layers=(\"Layer 1\", \"Layer 2\", \"Layer 3\")\n",
    "    dat1=([rel_h1, c1], [rel_h2, c2], [rel_h3, c3],[rel_h4, c4])\n",
    "    dat2=([rel_Q1,\"1\"],[rel_Q2,\"2\"], [rel_Q3, \"3\"])\n",
    "    # Plotting prependicular data\n",
    "    plt.plot(Head,Thickness)\n",
    "    plt.title(\"Flow Prependicular to the Layers\")\n",
    "    plt.xlabel(\"Relative thickness (-)\")\n",
    "    plt.ylabel(\"Relative head (-)\")\n",
    "    # Plotting lines for prependicular\n",
    "    plt.axhline(y=0, color='r', linestyle=':')\n",
    "    plt.axhline(y=(L1/(L1+L2+L3))+0, color='r', linestyle=':')\n",
    "    plt.axhline(y=(L2/(L1+L2+L3))+(L1/(L1+L2+L3)), color='r', linestyle=':')\n",
    "    plt.axhline(y=1, color='r', linestyle=':')\n",
    "    # Table for prependicular\n",
    "    Table1=pd.DataFrame(dat1, columns= [\"Relative Head\", \"     Relative Thickness\"])\n",
    "    # Plotting for parallel flow  \n",
    "    fig = plt.figure()\n",
    "    ay = fig.add_axes([0,0,1,1])\n",
    "    ay.bar(Layers, Relative_discharge )\n",
    "    plt.title(\"Flow Parallel to the Layers\")\n",
    "    plt.ylabel(\"Relative discharge(-)\")\n",
    "    plt.xlabel(\"No. of layers\")\n",
    "    #Table for parallel\n",
    "    Table2= pd.DataFrame(dat2, columns= [\"Relative discharge\", \"   No. of Layer\"])\n",
    "    print(\"\\n\", \"   Flow prependicular to the layers\",\"\\n\",\"\\n\",  Table1,\"\\n\",\"\\n\")  \n",
    "    print(\"\\n\", \"   Flow parallel to the layers\",\"\\n\",\"\\n\", Table2, \"\\n\", \"\\n\")\n",
    "\n",
    "style = {'description_width': 'initial'}    \n",
    "Inter=widgets.interact_manual(Plot_Function, \n",
    "                       L1= widgets.FloatText(description=\"Layer Thickness\", style=style),\n",
    "                       K1= widgets.FloatText(description=\"Hydraulic Conductivity\",style=style),\n",
    "                       L2= widgets.FloatText(description=\"Layer Thickness\", style=style),\n",
    "                       K2= widgets.FloatText(description=\"Hydraulic Conductivity\", style=style),\n",
    "                       L3= widgets.FloatText(description=\"Layer Thickness\", style=style),\n",
    "                       K3= widgets.FloatText(description=\"Hydraulic Conductivity\", style=style))"
   ]
  },
  {
   "cell_type": "code",
   "execution_count": null,
   "metadata": {},
   "outputs": [],
   "source": []
  }
 ],
 "metadata": {
  "hide_input": false,
  "kernelspec": {
   "display_name": "Python 3",
   "language": "python",
   "name": "python3"
  },
  "language_info": {
   "codemirror_mode": {
    "name": "ipython",
    "version": 3
   },
   "file_extension": ".py",
   "mimetype": "text/x-python",
   "name": "python",
   "nbconvert_exporter": "python",
   "pygments_lexer": "ipython3",
   "version": "3.8.3"
  },
  "latex_envs": {
   "LaTeX_envs_menu_present": true,
   "autoclose": false,
   "autocomplete": true,
   "bibliofile": "biblio.bib",
   "cite_by": "apalike",
   "current_citInitial": 1,
   "eqLabelWithNumbers": true,
   "eqNumInitial": 1,
   "hotkeys": {
    "equation": "Ctrl-E",
    "itemize": "Ctrl-I"
   },
   "labels_anchors": false,
   "latex_user_defs": false,
   "report_style_numbering": false,
   "user_envs_cfg": false
  },
  "toc": {
   "base_numbering": 1,
   "nav_menu": {},
   "number_sections": true,
   "sideBar": true,
   "skip_h1_title": false,
   "title_cell": "Table of Contents",
   "title_sidebar": "Contents",
   "toc_cell": false,
   "toc_position": {},
   "toc_section_display": true,
   "toc_window_display": false
  },
  "varInspector": {
   "cols": {
    "lenName": 16,
    "lenType": 16,
    "lenVar": 40
   },
   "kernels_config": {
    "python": {
     "delete_cmd_postfix": "",
     "delete_cmd_prefix": "del ",
     "library": "var_list.py",
     "varRefreshCmd": "print(var_dic_list())"
    },
    "r": {
     "delete_cmd_postfix": ") ",
     "delete_cmd_prefix": "rm(",
     "library": "var_list.r",
     "varRefreshCmd": "cat(var_dic_list()) "
    }
   },
   "types_to_exclude": [
    "module",
    "function",
    "builtin_function_or_method",
    "instance",
    "_Feature"
   ],
   "window_display": false
  }
 },
 "nbformat": 4,
 "nbformat_minor": 4
}
